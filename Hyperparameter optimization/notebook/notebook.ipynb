{
 "cells": [
  {
   "cell_type": "code",
   "execution_count": null,
   "metadata": {},
   "outputs": [],
   "source": [
    "# define the best accuracy to be 0\n",
    "best_accuracy = 0\n",
    "best_parameters = {\n",
    "    'a':0,\n",
    "    'b':0,\n",
    "    'c':0,\n",
    "}\n",
    "\n",
    "# loop through all possible values of a, b, and c\n",
    "for a in range(1,11):\n",
    "    for b in range(1,11):\n",
    "        for c in range(1,11):\n",
    "            # initialize the model with the current values of a, b, and c\n",
    "            model = MODEL(a,b,c)\n",
    "            # fit the model\n",
    "            model.fit(X_train, y_train)\n",
    "            # make predictions\n",
    "            preds = model.predict(x_val, y_val)\n",
    "            # calculate the accuracy\n",
    "            accuracy = metrics.accuracy_score(y_val, preds)\n",
    "\n",
    "            # save the best parameters if the current accuracy is better\n",
    "            if accuracy > best_accuracy:\n",
    "                best_accuracy = accuracy\n",
    "                best_parameters['a'] = a\n",
    "                best_parameters['b'] = b\n",
    "                best_parameters['c'] = c"
   ]
  }
 ],
 "metadata": {
  "language_info": {
   "name": "python"
  }
 },
 "nbformat": 4,
 "nbformat_minor": 2
}
