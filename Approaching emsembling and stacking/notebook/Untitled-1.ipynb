{
 "cells": [
  {
   "cell_type": "code",
   "execution_count": 1,
   "metadata": {},
   "outputs": [],
   "source": [
    "import numpy as np\n",
    "\n",
    "def mean_predictions(probas):\n",
    "    '''create a mean prediction from a list of probabilities'''\n",
    "    return np.mean(probas, axis=0)\n",
    "def max_voting(preds):\n",
    "    idxs = np.argmax(preds, axis=1)\n",
    "    return np.take_along_axis(preds, idxs[:, None], axis=1)"
   ]
  },
  {
   "cell_type": "code",
   "execution_count": 2,
   "metadata": {},
   "outputs": [],
   "source": [
    "import scipy.stats as stats\n",
    "def rank_mean(probas):\n",
    "    ranked = []\n",
    "    for i in range(probas.shape[1]):\n",
    "        rank_data = stats.rankdata(probas[:, i])\n",
    "        ranked.append(rank_data)\n",
    "        ranked = np.column_stack(ranked)\n",
    "    return np.mean(ranked, axis=1)"
   ]
  },
  {
   "cell_type": "code",
   "execution_count": 3,
   "metadata": {},
   "outputs": [],
   "source": [
    "import numpy as np\n",
    "from functools import partial \n",
    "from scipy.optimize import fmin \n",
    "from sklearn import metrics\n",
    "\n",
    "class OptimizeAUC:\n",
    "    def __init__(self):\n",
    "        self.coef = 0\n",
    "    \n",
    "    def _auc(self, coef, X, y):\n",
    "        '''Calculate the AUC value'''\n",
    "        x_coef = X * coef\n",
    "        predictions = np.sum(x_coef, axis=1)\n",
    "        auc_score = metrics.roc_auc_score(y, predictions)\n",
    "        return -1.0 * auc_score\n",
    "\n",
    "    def fit(self, X, y):\n",
    "        loss_partial = partial(self._auc, X=X, y=y)\n",
    "        initial_coef = np.random.dirichlet(np.ones(X.shape[1]), size=1)\n",
    "        self.coef = fmin(loss_partial, initial_coef, disp=True)\n",
    "    \n",
    "    def predict(self, X):\n",
    "        x_coef = X * self.coef\n",
    "        predictions = np.sum(x_coef, axis=1)\n",
    "        return predictions\n",
    "    "
   ]
  },
  {
   "cell_type": "code",
   "execution_count": 4,
   "metadata": {},
   "outputs": [
    {
     "name": "stdout",
     "output_type": "stream",
     "text": [
      "Fold-2: LR AUC = 0.9111297920269005\n",
      "Fold-2: RF AUC = 0.961219704156374\n",
      "Fold-2: XGB AUC = 0.9590301010033456\n"
     ]
    },
    {
     "ename": "IndexError",
     "evalue": "list index out of range",
     "output_type": "error",
     "traceback": [
      "\u001b[0;31m---------------------------------------------------------------------------\u001b[0m",
      "\u001b[0;31mIndexError\u001b[0m                                Traceback (most recent call last)",
      "Cell \u001b[0;32mIn[4], line 41\u001b[0m\n\u001b[1;32m     39\u001b[0m \u001b[38;5;28mprint\u001b[39m(\u001b[38;5;124mf\u001b[39m\u001b[38;5;124m\"\u001b[39m\u001b[38;5;124mFold-2: RF AUC = \u001b[39m\u001b[38;5;132;01m{\u001b[39;00maucs_folds2[\u001b[38;5;241m1\u001b[39m]\u001b[38;5;132;01m}\u001b[39;00m\u001b[38;5;124m\"\u001b[39m) \n\u001b[1;32m     40\u001b[0m \u001b[38;5;28mprint\u001b[39m(\u001b[38;5;124mf\u001b[39m\u001b[38;5;124m\"\u001b[39m\u001b[38;5;124mFold-2: XGB AUC = \u001b[39m\u001b[38;5;132;01m{\u001b[39;00maucs_folds2[\u001b[38;5;241m2\u001b[39m]\u001b[38;5;132;01m}\u001b[39;00m\u001b[38;5;124m\"\u001b[39m) \n\u001b[0;32m---> 41\u001b[0m \u001b[38;5;28mprint\u001b[39m(\u001b[38;5;124mf\u001b[39m\u001b[38;5;124m\"\u001b[39m\u001b[38;5;124mFold-2: Average Pred AUC = \u001b[39m\u001b[38;5;132;01m{\u001b[39;00maucs_folds2[\u001b[38;5;241m3\u001b[39m]\u001b[38;5;132;01m}\u001b[39;00m\u001b[38;5;124m\"\u001b[39m)\n",
      "\u001b[0;31mIndexError\u001b[0m: list index out of range"
     ]
    }
   ],
   "source": [
    "import xgboost as xgb\n",
    "from sklearn.datasets import make_classification\n",
    "from sklearn import ensemble\n",
    "from sklearn import linear_model \n",
    "from sklearn import metrics\n",
    "from sklearn import model_selection\n",
    "\n",
    "X, y = make_classification(n_samples = 10000, n_features = 25)\n",
    "\n",
    "xfold1, xfold2, yfold1, yfold2 = model_selection.train_test_split(X, y, test_size=0.5, stratify=y)\n",
    "\n",
    "# fit models on fold1 and make predictions on fold2\n",
    "logreg = linear_model.LogisticRegression()\n",
    "rf = ensemble.RandomForestClassifier()\n",
    "xgbc = xgb.XGBClassifier()\n",
    "\n",
    "# fit all models on fold1 data\n",
    "logreg.fit(xfold1, yfold1)\n",
    "rf.fit(xfold1, yfold1)\n",
    "xgbc.fit(xfold1, yfold1)\n",
    "\n",
    "# predict on fold2 with all models\n",
    "pred_logreg = logreg.predict_proba(xfold2)[:, 1]\n",
    "pred_rf = rf.predict_proba(xfold2)[:, 1]\n",
    "pred_xgbc = xgbc.predict_proba(xfold2)[:, 1]\n",
    "\n",
    "# create a mean prediction\n",
    "avg_preds = mean_predictions([pred_logreg, pred_rf, pred_xgbc]) / 3\n",
    "\n",
    "# a 2d array of predictions\n",
    "folds2_preds = np.column_stack((pred_logreg, pred_rf, pred_xgbc))\n",
    "\n",
    "# calculate the AUC score\n",
    "aucs_folds2 = []\n",
    "for i in range(folds2_preds.shape[1]):\n",
    "    auc = metrics.roc_auc_score(yfold2, folds2_preds[:, i])\n",
    "    aucs_folds2.append(auc)\n",
    "print(f\"Fold-2: LR AUC = {aucs_folds2[0]}\") \n",
    "print(f\"Fold-2: RF AUC = {aucs_folds2[1]}\") \n",
    "print(f\"Fold-2: XGB AUC = {aucs_folds2[2]}\") \n",
    "\n",
    "\n",
    "\n",
    "\n"
   ]
  },
  {
   "cell_type": "code",
   "execution_count": null,
   "metadata": {},
   "outputs": [],
   "source": []
  }
 ],
 "metadata": {
  "kernelspec": {
   "display_name": "base",
   "language": "python",
   "name": "python3"
  },
  "language_info": {
   "codemirror_mode": {
    "name": "ipython",
    "version": 3
   },
   "file_extension": ".py",
   "mimetype": "text/x-python",
   "name": "python",
   "nbconvert_exporter": "python",
   "pygments_lexer": "ipython3",
   "version": "3.11.4"
  }
 },
 "nbformat": 4,
 "nbformat_minor": 2
}
